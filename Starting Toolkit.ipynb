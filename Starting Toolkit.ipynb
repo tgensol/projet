{
 "cells": [
  {
   "cell_type": "markdown",
   "metadata": {},
   "source": [
    "# Sentiments analysis challenge on movie review\n",
    "## Designed by : Il faut sauver les datas, Ryan !\n",
    "\n",
    "\n",
    "    Boosz Paul \n",
    "    Estrade Victor \n",
    "    Gensollen Thibaut \n",
    "    Rais Hadjer \n",
    "    Sakly Sami "
   ]
  },
  {
   "cell_type": "markdown",
   "metadata": {},
   "source": [
    "## Introduction\n",
    "The data set is composed of an equilibred number of positive /negative movie review. It will be on the form of 3 different CSV files. \n",
    "-Train.csv contains 10k examples with 3 columns : id, label, review\n",
    "-Test_public.csv 5k examples with 3 columns : id, label, review\n",
    "-Test_private.csv contains 10k examples with only 2 columns : id, review\n",
    "\n",
    "The goal is to predict the <code>predicted_label</code> column. The prediction quality is measured by the precision metrics. \n",
    "\n",
    "Results should be a txt file or csv file with 2 columns : id, predicted_class as shown in this toolkit.\n"
   ]
  },
  {
   "cell_type": "markdown",
   "metadata": {},
   "source": [
    "## Fetch the data and load it in pandas"
   ]
  },
  {
   "cell_type": "code",
   "execution_count": 1,
   "metadata": {
    "collapsed": false
   },
   "outputs": [],
   "source": [
    "import pandas as pd\n",
    "import numpy as np \n",
    "\n",
    "# Load Original Data / contains data + labels 10 k \n",
    "train_data = pd.read_csv(\"./TEXT_data/train.csv\").drop('id',axis =1 )\n",
    "# your cross validation data / we provide also label for these data , contains only data : 5k\n",
    "test_public = pd.read_csv(\"./TEXT_data/test_public.csv\").drop('id',axis =1 )\n",
    "# crossvalidation label : 5k \n",
    "y_public = pd.read_csv(\"./TEXT_data/correction_public.csv\").drop('id',axis =1 )\n",
    "\n",
    "# final submission\n",
    "test_private = pd.read_csv(\"./TEXT_data/test_private.csv\").drop('id',axis =1 )\n"
   ]
  },
  {
   "cell_type": "code",
   "execution_count": 2,
   "metadata": {
    "collapsed": false
   },
   "outputs": [
    {
     "name": "stdout",
     "output_type": "stream",
     "text": [
      "train size 10000\n",
      "public test size 5000\n",
      "private test size 10000\n"
     ]
    }
   ],
   "source": [
    "print \"train size\", len(train_data)\n",
    "print \"public test size\", len(test_public)\n",
    "print \"private test size\",len(test_private)"
   ]
  },
  {
   "cell_type": "code",
   "execution_count": 3,
   "metadata": {
    "collapsed": false
   },
   "outputs": [
    {
     "name": "stdout",
     "output_type": "stream",
     "text": [
      "raw text : \n",
      "Yes, it's another great magical Muppet's movie and I adore them all; the characters, the movies, the TV show episodes (it's the best comedy or musical TV show ever) and all the artists behind it. But here they did such a rare fatal mistake and I'm surely talking about the weird ending !! <br /><br />I think it's very dangerous to involve that much, in American drama, and end a love affair by marriage !! We, as all the poor viewers, feel so free or maybe happy for the absence of its annoyance, peevishness and misery ! So we all enjoy these stories which gather 2 cute heroes as couple in love without the legitimate bond like Mickey Mouse and Minnie, Superman and Lois Lane, Dick Tracy and Tess, etc. So with all of the previous couples and their likes I bet that you feel safe, serenity and peace. Therefore when you look at what the makers of this movie had already done you'll be as mad as me !<br /><br />They made the weak miserable creature (Kermit) marry his daily nightmare, the most vexatious female ever (Miss Piggy) ! This is a historical change by the measures of the American entertainment's industry ! And it was pretty normal to have a negative impact upon the audience whom just refused to bless or believe or being satisfied with that sudden marriage (even the pathetic frog didn't have the time or the proper opportunity to think or to decide anything !). Therefore no wonder at all when you know that this movie is the most failure one in their cinematic serious, grossing only 25 millions vis-à-vis 65 millions earned by the first one (The Muppet Movie  1979) five years earlier !!<br /><br />Simply in this movie they took Manhattan, and my rest too !\n",
      "label : 1\n"
     ]
    }
   ],
   "source": [
    "# creating arrays from pandas dataframe\n",
    "X_train = train_data['review'].values\n",
    "y_train = train_data['label'].values\n",
    "X_test = test_public['review'].values\n",
    "y_test = y_public['label'].values\n",
    "X_private_test = test_private['review'].values\n",
    "print \"raw text : \\n\", X_train[0]\n",
    "print \"label :\", y_train[0]"
   ]
  },
  {
   "cell_type": "code",
   "execution_count": 18,
   "metadata": {
    "collapsed": false
   },
   "outputs": [
    {
     "name": "stdout",
     "output_type": "stream",
     "text": [
      "5000\n"
     ]
    }
   ],
   "source": [
    "print len(X_test)"
   ]
  },
  {
   "cell_type": "code",
   "execution_count": 4,
   "metadata": {
    "collapsed": false
   },
   "outputs": [],
   "source": [
    "from sklearn.ensemble import RandomForestClassifier\n",
    "from sklearn.feature_extraction.text import TfidfVectorizer\n",
    "from sklearn.pipeline import Pipeline\n",
    "\n",
    "# creating random forest classifier \n",
    "rfst = RandomForestClassifier(n_estimators = 100)\n",
    "# TfIdf Vectorizer with default parameters \n",
    "myTfidfVect = TfidfVectorizer(max_features=30000)\n",
    "X_train_transformed = myTfidfVect.fit_transform(X_train)\n",
    "# the pipeline\n",
    "#myPipe = Pipeline([('tfvect', monTfidfVect),('rf' ,rfst)])\n",
    "\n",
    "#myPipe.fit_transform(X_train,y_train)"
   ]
  },
  {
   "cell_type": "code",
   "execution_count": 5,
   "metadata": {
    "collapsed": false
   },
   "outputs": [
    {
     "data": {
      "text/plain": [
       "RandomForestClassifier(bootstrap=True, class_weight=None, criterion='gini',\n",
       "            max_depth=None, max_features='auto', max_leaf_nodes=None,\n",
       "            min_samples_leaf=1, min_samples_split=2,\n",
       "            min_weight_fraction_leaf=0.0, n_estimators=100, n_jobs=1,\n",
       "            oob_score=False, random_state=None, verbose=0,\n",
       "            warm_start=False)"
      ]
     },
     "execution_count": 5,
     "metadata": {},
     "output_type": "execute_result"
    }
   ],
   "source": [
    "rfst.fit(X_train_transformed,y_train)"
   ]
  },
  {
   "cell_type": "code",
   "execution_count": 6,
   "metadata": {
    "collapsed": true
   },
   "outputs": [],
   "source": [
    "X_test_transformed = myTfidfVect.transform(X_test)"
   ]
  },
  {
   "cell_type": "code",
   "execution_count": 20,
   "metadata": {
    "collapsed": false
   },
   "outputs": [
    {
     "name": "stdout",
     "output_type": "stream",
     "text": [
      "5000\n"
     ]
    }
   ],
   "source": [
    "print len(y_test)"
   ]
  },
  {
   "cell_type": "code",
   "execution_count": 7,
   "metadata": {
    "collapsed": false
   },
   "outputs": [
    {
     "data": {
      "text/plain": [
       "0.8286"
      ]
     },
     "execution_count": 7,
     "metadata": {},
     "output_type": "execute_result"
    }
   ],
   "source": [
    "# score on public test without CV or any preprocessing\n",
    "rfst.score(X_test_transformed,y_test)"
   ]
  },
  {
   "cell_type": "code",
   "execution_count": 22,
   "metadata": {
    "collapsed": true
   },
   "outputs": [],
   "source": [
    "prediction_validation = rfst.predict(X_test_transformed)"
   ]
  },
  {
   "cell_type": "code",
   "execution_count": 23,
   "metadata": {
    "collapsed": false
   },
   "outputs": [],
   "source": [
    "X_test_private_transformed= myTfidfVect.transform(X_private_test)\n",
    "prediction_test = rfst.predict(X_test_private_transformed)"
   ]
  },
  {
   "cell_type": "code",
   "execution_count": 25,
   "metadata": {
    "collapsed": false
   },
   "outputs": [],
   "source": [
    "# c'est inversé pour le moment \n",
    "f = open('valid.predict','w')\n",
    "for x in prediction_test: \n",
    "    f.write(str(x)+'\\n') \n",
    "f.close()\n",
    "f = open('test.predict','w')\n",
    "for x in prediction_validation: \n",
    "    f.write(str(x)+'\\n') \n",
    "f.close()"
   ]
  },
  {
   "cell_type": "code",
   "execution_count": 143,
   "metadata": {
    "collapsed": false
   },
   "outputs": [],
   "source": [
    "# in case you need csv file\n",
    "#predictionDF = pd.DataFrame(prediction_label)\n",
    "#predictionDF.columns =['predicted_class']\n",
    "#predictionDF.to_csv(\"nameOfTfile.csv\")"
   ]
  },
  {
   "cell_type": "code",
   "execution_count": 144,
   "metadata": {
    "collapsed": false
   },
   "outputs": [
    {
     "data": {
      "text/html": [
       "<div>\n",
       "<table border=\"1\" class=\"dataframe\">\n",
       "  <thead>\n",
       "    <tr style=\"text-align: right;\">\n",
       "      <th></th>\n",
       "      <th>predicted_class</th>\n",
       "    </tr>\n",
       "  </thead>\n",
       "  <tbody>\n",
       "    <tr>\n",
       "      <th>0</th>\n",
       "      <td>1</td>\n",
       "    </tr>\n",
       "    <tr>\n",
       "      <th>1</th>\n",
       "      <td>1</td>\n",
       "    </tr>\n",
       "    <tr>\n",
       "      <th>2</th>\n",
       "      <td>0</td>\n",
       "    </tr>\n",
       "    <tr>\n",
       "      <th>3</th>\n",
       "      <td>0</td>\n",
       "    </tr>\n",
       "    <tr>\n",
       "      <th>4</th>\n",
       "      <td>1</td>\n",
       "    </tr>\n",
       "  </tbody>\n",
       "</table>\n",
       "</div>"
      ],
      "text/plain": [
       "   predicted_class\n",
       "0                1\n",
       "1                1\n",
       "2                0\n",
       "3                0\n",
       "4                1"
      ]
     },
     "execution_count": 144,
     "metadata": {},
     "output_type": "execute_result"
    }
   ],
   "source": [
    "predictionDF.head()"
   ]
  },
  {
   "cell_type": "code",
   "execution_count": null,
   "metadata": {
    "collapsed": true
   },
   "outputs": [],
   "source": []
  }
 ],
 "metadata": {
  "kernelspec": {
   "display_name": "Python 2",
   "language": "python",
   "name": "python2"
  },
  "language_info": {
   "codemirror_mode": {
    "name": "ipython",
    "version": 2
   },
   "file_extension": ".py",
   "mimetype": "text/x-python",
   "name": "python",
   "nbconvert_exporter": "python",
   "pygments_lexer": "ipython2",
   "version": "2.7.10"
  }
 },
 "nbformat": 4,
 "nbformat_minor": 0
}
